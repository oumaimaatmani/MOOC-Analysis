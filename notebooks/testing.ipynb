{
 "cells": [
  {
   "cell_type": "code",
   "execution_count": 237,
   "metadata": {},
   "outputs": [],
   "source": [
    "import pandas as pd\n",
    "import numpy as np\n",
    "import joblib"
   ]
  },
  {
   "cell_type": "code",
   "execution_count": 238,
   "metadata": {},
   "outputs": [],
   "source": [
    "model=joblib.load('xgb_model.pkl')\n",
    "trained_columns=joblib.load('trained_columns.pkl')\n"
   ]
  },
  {
   "cell_type": "code",
   "execution_count": 239,
   "metadata": {},
   "outputs": [
    {
     "name": "stdout",
     "output_type": "stream",
     "text": [
      "Index(['id_student', 'score', 'code_module', 'code_presentation',\n",
      "       'date_registration', 'gender', 'region', 'highest_education',\n",
      "       'imd_band', 'age_band', 'num_of_prev_attempts', 'studied_credits',\n",
      "       'disability', 'module_presentation_length', 'id_assessment',\n",
      "       'assessment_type', 'date', 'weight', 'date_submitted', 'is_banked',\n",
      "       'activity_type', 'sum', 'count', 'engagement_dropoff',\n",
      "       'time_since_registration', 'performance_by_registration',\n",
      "       'learning_pace', 'module_engagement_rate', 'engagement_consistency',\n",
      "       'cumulative_score', 'weighted_score', 'completed_assessments_ratio',\n",
      "       'assessment_weight_ratio', 'assessment_engagement_score',\n",
      "       'average_score', 'repeat_student', 'improvement_rate',\n",
      "       'banked_assessment_ratio', 'difficulty_score'],\n",
      "      dtype='object')\n"
     ]
    }
   ],
   "source": [
    "new_student_data = {\n",
    "    'id_student': [987654321], \n",
    "    'sum-click': [55], \n",
    "    'score': [15], \n",
    "    'code_module': ['Data Science'], \n",
    "    'code_presentation': ['2024A'], \n",
    "    'date_registration': [-35],\n",
    "    'gender': ['M'], \n",
    "    'region': ['London'], \n",
    "    'highest_education': ['High School'], \n",
    "    'imd_band': ['10-20%'],  \n",
    "    'age_band': ['20-25'], \n",
    "    'num_of_prev_attempts': [2],  \n",
    "    'studied_credits': [120],  \n",
    "    'disability': ['N'], \n",
    "    'module_presentation_length': [30],\n",
    "    'id_assessment': [654321],  \n",
    "    'assessment_type': ['CMA'],  \n",
    "    'date': [20], \n",
    "    'weight': [15], \n",
    "    'date_submitted': [18],\n",
    "    'is_banked': [1],  \n",
    "    'activity_type': ['quizzing'],}\n",
    "new_student_df = pd.DataFrame(new_student_data)\n",
    "student_id=new_student_data['id_student']\n",
    "activity_summary = new_student_df.groupby(\n",
    "    ['id_student', 'code_module', 'code_presentation', 'activity_type'], as_index=False\n",
    ")['sum-click'].agg(['sum', 'count'])\n",
    "\n",
    "new_student_df = new_student_df.merge(activity_summary, on=['id_student', 'code_module', 'code_presentation', 'activity_type'], how='left')\n",
    "\n",
    "new_student_df.drop(columns=['sum-click'], inplace=True)\n",
    "\n",
    "def feature_engineering(new_df, reference_df):\n",
    "    new_df['engagement_dropoff'] = new_df.groupby('id_student')['sum'].transform(\n",
    "    lambda x: (x.max() - x.min()) / max((x.count() - 1), 1)\n",
    ")\n",
    "\n",
    "\n",
    "    new_df['time_since_registration'] = new_df['date'] - new_df['date_registration']\n",
    "    new_df['performance_by_registration'] = new_df['score'] / ((new_df['date'] - new_df['date_registration']) + 1)\n",
    "    new_df['learning_pace'] = new_df.groupby('id_student')['date_submitted'].diff().fillna(0)\n",
    "    new_df['module_engagement_rate'] = new_df['sum'] / new_df['module_presentation_length']\n",
    "\n",
    "    new_df['engagement_consistency'] = new_df.groupby('id_student')['sum'].transform(lambda x: np.std(x) if len(x) > 1 else 0)\n",
    "    new_df['engagement_consistency'] = new_df['engagement_consistency'].fillna(0)\n",
    "\n",
    "    new_df['cumulative_score'] = new_df.groupby('id_student')['score'].cumsum().fillna(new_df['score'])\n",
    "    new_df['weighted_score'] = new_df['score'] * new_df['weight'].fillna(1)  # Default weight is 1 if missing\n",
    "    new_df['completed_assessments_ratio'] = 1 / new_df['module_presentation_length']\n",
    "    new_df['assessment_weight_ratio'] = new_df['weight'] / new_df.groupby('code_presentation')['weight'].transform('sum').fillna(1)\n",
    "    new_df['assessment_engagement_score'] = new_df['sum'] * new_df['id_assessment']\n",
    "    new_df['average_score'] = new_df.groupby('id_student')['score'].transform('mean')\n",
    "\n",
    "    new_df['repeat_student'] = new_df['num_of_prev_attempts'].apply(lambda x: 1 if x > 0 else 0)\n",
    "    new_df['improvement_rate'] = new_df.groupby('id_student')['score'].transform(\n",
    "        lambda x: (x.iloc[-1] - x.iloc[0]) / (x.count() - 1) if x.count() > 1 else 0\n",
    "    )\n",
    "    new_df['banked_assessment_ratio'] = new_df.groupby('id_student')['is_banked'].transform(lambda x: x.fillna(0).sum() / x.count())\n",
    "\n",
    "    course_difficulty = reference_df.groupby('code_module')['score'].mean()\n",
    "    new_df['difficulty_score'] = new_df['code_module'].map(course_difficulty).fillna(0)\n",
    "\n",
    "    return new_df\n",
    "\n",
    "reference_df = pd.read_csv('reference.csv')\n",
    "\n",
    "new_student_df = feature_engineering(new_student_df, reference_df)\n",
    "\n",
    "print(new_student_df.columns)\n"
   ]
  },
  {
   "cell_type": "code",
   "execution_count": 240,
   "metadata": {},
   "outputs": [
    {
     "data": {
      "text/html": [
       "<div>\n",
       "<style scoped>\n",
       "    .dataframe tbody tr th:only-of-type {\n",
       "        vertical-align: middle;\n",
       "    }\n",
       "\n",
       "    .dataframe tbody tr th {\n",
       "        vertical-align: top;\n",
       "    }\n",
       "\n",
       "    .dataframe thead th {\n",
       "        text-align: right;\n",
       "    }\n",
       "</style>\n",
       "<table border=\"1\" class=\"dataframe\">\n",
       "  <thead>\n",
       "    <tr style=\"text-align: right;\">\n",
       "      <th></th>\n",
       "      <th>id_student</th>\n",
       "      <th>score</th>\n",
       "      <th>code_module</th>\n",
       "      <th>code_presentation</th>\n",
       "      <th>date_registration</th>\n",
       "      <th>gender</th>\n",
       "      <th>region</th>\n",
       "      <th>highest_education</th>\n",
       "      <th>imd_band</th>\n",
       "      <th>age_band</th>\n",
       "      <th>...</th>\n",
       "      <th>cumulative_score</th>\n",
       "      <th>weighted_score</th>\n",
       "      <th>completed_assessments_ratio</th>\n",
       "      <th>assessment_weight_ratio</th>\n",
       "      <th>assessment_engagement_score</th>\n",
       "      <th>average_score</th>\n",
       "      <th>repeat_student</th>\n",
       "      <th>improvement_rate</th>\n",
       "      <th>banked_assessment_ratio</th>\n",
       "      <th>difficulty_score</th>\n",
       "    </tr>\n",
       "  </thead>\n",
       "  <tbody>\n",
       "    <tr>\n",
       "      <th>0</th>\n",
       "      <td>987654321</td>\n",
       "      <td>15</td>\n",
       "      <td>Data Science</td>\n",
       "      <td>2024A</td>\n",
       "      <td>-35</td>\n",
       "      <td>M</td>\n",
       "      <td>London</td>\n",
       "      <td>High School</td>\n",
       "      <td>10-20%</td>\n",
       "      <td>20-25</td>\n",
       "      <td>...</td>\n",
       "      <td>15</td>\n",
       "      <td>225</td>\n",
       "      <td>0.033333</td>\n",
       "      <td>1.0</td>\n",
       "      <td>35987655</td>\n",
       "      <td>15.0</td>\n",
       "      <td>1</td>\n",
       "      <td>0</td>\n",
       "      <td>1.0</td>\n",
       "      <td>0.0</td>\n",
       "    </tr>\n",
       "  </tbody>\n",
       "</table>\n",
       "<p>1 rows × 39 columns</p>\n",
       "</div>"
      ],
      "text/plain": [
       "   id_student  score   code_module code_presentation  date_registration  \\\n",
       "0   987654321     15  Data Science             2024A                -35   \n",
       "\n",
       "  gender  region highest_education imd_band age_band  ...  cumulative_score  \\\n",
       "0      M  London       High School   10-20%    20-25  ...                15   \n",
       "\n",
       "   weighted_score completed_assessments_ratio  assessment_weight_ratio  \\\n",
       "0             225                    0.033333                      1.0   \n",
       "\n",
       "   assessment_engagement_score average_score  repeat_student  \\\n",
       "0                     35987655          15.0               1   \n",
       "\n",
       "   improvement_rate  banked_assessment_ratio  difficulty_score  \n",
       "0                 0                      1.0               0.0  \n",
       "\n",
       "[1 rows x 39 columns]"
      ]
     },
     "execution_count": 240,
     "metadata": {},
     "output_type": "execute_result"
    }
   ],
   "source": [
    "new_student_df.head()"
   ]
  },
  {
   "cell_type": "code",
   "execution_count": 241,
   "metadata": {},
   "outputs": [
    {
     "data": {
      "text/plain": [
       "0    55\n",
       "Name: sum, dtype: int64"
      ]
     },
     "execution_count": 241,
     "metadata": {},
     "output_type": "execute_result"
    }
   ],
   "source": [
    "# new_student_df['sum']"
   ]
  },
  {
   "cell_type": "code",
   "execution_count": 242,
   "metadata": {},
   "outputs": [
    {
     "name": "stdout",
     "output_type": "stream",
     "text": [
      "Index(['id_student', 'code_module', 'code_presentation', 'gender', 'region',\n",
      "       'highest_education', 'imd_band', 'age_band', 'disability',\n",
      "       'activity_type', 'assessment_type', 'sum', 'count', 'score',\n",
      "       'weighted_score', 'module_engagement_rate', 'engagement_consistency',\n",
      "       'improvement_rate', 'engagement_dropoff', 'banked_assessment_ratio',\n",
      "       'cumulative_score', 'completed_assessments_ratio',\n",
      "       'time_since_registration', 'learning_pace', 'repeat_student',\n",
      "       'assessment_weight_ratio', 'assessment_engagement_score',\n",
      "       'average_score', 'difficulty_score', 'num_of_prev_attempts',\n",
      "       'studied_credits'],\n",
      "      dtype='object')\n"
     ]
    }
   ],
   "source": [
    "required_columns = [\n",
    "    'id_student', 'code_module', 'code_presentation', 'gender', 'region', 'highest_education', \n",
    "    'imd_band', 'age_band', 'disability', 'activity_type', 'assessment_type', \n",
    "    'sum', 'count', 'score', 'weighted_score', 'module_engagement_rate', 'engagement_consistency', \n",
    "    'improvement_rate', 'engagement_dropoff', 'banked_assessment_ratio', 'cumulative_score', \n",
    "    'completed_assessments_ratio', 'time_since_registration', 'learning_pace', 'repeat_student', \n",
    "    'assessment_weight_ratio', 'assessment_engagement_score', 'average_score', 'difficulty_score', \n",
    "    'num_of_prev_attempts', 'studied_credits'\n",
    "]\n",
    "\n",
    "new_student_df = new_student_df[required_columns]\n",
    "\n",
    "print(new_student_df.columns)"
   ]
  },
  {
   "cell_type": "code",
   "execution_count": 243,
   "metadata": {},
   "outputs": [
    {
     "data": {
      "text/plain": [
       "0    Data Science\n",
       "Name: code_module, dtype: object"
      ]
     },
     "execution_count": 243,
     "metadata": {},
     "output_type": "execute_result"
    }
   ],
   "source": [
    "new_student_df['code_module']"
   ]
  },
  {
   "cell_type": "code",
   "execution_count": 244,
   "metadata": {},
   "outputs": [
    {
     "name": "stdout",
     "output_type": "stream",
     "text": [
      "Index(['id_student', 'sum', 'count', 'score', 'weighted_score',\n",
      "       'module_engagement_rate', 'engagement_consistency', 'improvement_rate',\n",
      "       'engagement_dropoff', 'banked_assessment_ratio', 'cumulative_score',\n",
      "       'completed_assessments_ratio', 'time_since_registration',\n",
      "       'learning_pace', 'repeat_student', 'assessment_weight_ratio',\n",
      "       'assessment_engagement_score', 'average_score', 'difficulty_score',\n",
      "       'num_of_prev_attempts', 'studied_credits', 'code_module_AAA',\n",
      "       'code_module_BBB', 'code_module_CCC', 'code_module_DDD',\n",
      "       'code_module_EEE', 'code_module_FFF', 'code_module_GGG',\n",
      "       'code_presentation_2013B', 'code_presentation_2013J',\n",
      "       'code_presentation_2014B', 'code_presentation_2014J', 'gender_F',\n",
      "       'gender_M', 'region_East Anglian Region', 'region_East Midlands Region',\n",
      "       'region_Ireland', 'region_London Region', 'region_North Region',\n",
      "       'region_North Western Region', 'region_Scotland',\n",
      "       'region_South East Region', 'region_South Region',\n",
      "       'region_South West Region', 'region_Wales',\n",
      "       'region_West Midlands Region', 'region_Yorkshire Region',\n",
      "       'highest_education_A Level or Equivalent',\n",
      "       'highest_education_HE Qualification',\n",
      "       'highest_education_Lower Than A Level', 'imd_band_0-10%',\n",
      "       'imd_band_10-20', 'imd_band_20-30%', 'imd_band_30-40%',\n",
      "       'imd_band_40-50%', 'imd_band_50-60%', 'imd_band_60-70%',\n",
      "       'imd_band_70-80%', 'imd_band_80-90%', 'imd_band_90-100%',\n",
      "       'age_band_0-35', 'age_band_35+', 'disability_N', 'disability_Y',\n",
      "       'activity_type_dataplus', 'activity_type_dualpane',\n",
      "       'activity_type_externalquiz', 'activity_type_folder',\n",
      "       'activity_type_forumng', 'activity_type_glossary',\n",
      "       'activity_type_homepage', 'activity_type_quiz',\n",
      "       'activity_type_resource', 'assessment_type_CMA', 'assessment_type_Exam',\n",
      "       'assessment_type_TMA'],\n",
      "      dtype='object')\n"
     ]
    }
   ],
   "source": [
    "scaler = joblib.load('scaler.pkl')\n",
    "encoder = joblib.load('encoder.pkl')\n",
    "label_encoder = joblib.load('label_encoder.pkl')\n",
    "numeric_features = new_student_df.select_dtypes(include=['int64', 'float64']).columns\n",
    "categorical_features = new_student_df.select_dtypes(include=['object']).columns\n",
    "\n",
    "scaled_features = scaler.transform(new_student_df[numeric_features])\n",
    "\n",
    "encoded_features = encoder.transform(new_student_df[categorical_features])\n",
    "\n",
    "final_features = np.hstack([scaled_features, encoded_features])\n",
    "\n",
    "new_student_scaled = pd.DataFrame(\n",
    "    final_features,\n",
    "    columns=list(numeric_features) + list(encoder.get_feature_names_out(categorical_features)),\n",
    "    index=new_student_df.index\n",
    ")\n",
    "print(new_student_scaled.columns)\n"
   ]
  },
  {
   "cell_type": "code",
   "execution_count": 245,
   "metadata": {},
   "outputs": [
    {
     "name": "stdout",
     "output_type": "stream",
     "text": [
      "Colonnes manquantes : {'completion_status'}\n",
      "Colonnes supplémentaires : set()\n"
     ]
    }
   ],
   "source": [
    "missing_columns = set(trained_columns) - set(new_student_scaled.columns)\n",
    "extra_columns = set(new_student_scaled.columns) - set(trained_columns)\n",
    "print(f\"Colonnes manquantes : {missing_columns}\")\n",
    "print(f\"Colonnes supplémentaires : {extra_columns}\")\n"
   ]
  },
  {
   "cell_type": "code",
   "execution_count": 253,
   "metadata": {},
   "outputs": [
    {
     "name": "stdout",
     "output_type": "stream",
     "text": [
      "Statistiques des nouvelles données :\n",
      "             sum     count    score  weighted_score  module_engagement_rate  \\\n",
      "count  1.000000  1.000000  1.00000        1.000000                 1.00000   \n",
      "mean  -0.669902 -0.800652 -3.70351       -1.062088                 1.98802   \n",
      "std         NaN       NaN      NaN             NaN                     NaN   \n",
      "min   -0.669902 -0.800652 -3.70351       -1.062088                 1.98802   \n",
      "25%   -0.669902 -0.800652 -3.70351       -1.062088                 1.98802   \n",
      "50%   -0.669902 -0.800652 -3.70351       -1.062088                 1.98802   \n",
      "75%   -0.669902 -0.800652 -3.70351       -1.062088                 1.98802   \n",
      "max   -0.669902 -0.800652 -3.70351       -1.062088                 1.98802   \n",
      "\n",
      "       engagement_consistency  improvement_rate  engagement_dropoff  \\\n",
      "count                1.000000          1.000000            1.000000   \n",
      "mean                -0.810924          0.051692           -0.808938   \n",
      "std                       NaN               NaN                 NaN   \n",
      "min                 -0.810924          0.051692           -0.808938   \n",
      "25%                 -0.810924          0.051692           -0.808938   \n",
      "50%                 -0.810924          0.051692           -0.808938   \n",
      "75%                 -0.810924          0.051692           -0.808938   \n",
      "max                 -0.810924          0.051692           -0.808938   \n",
      "\n",
      "       banked_assessment_ratio  cumulative_score  ...  \\\n",
      "count                 1.000000          1.000000  ...   \n",
      "mean                 14.846701         -1.275226  ...   \n",
      "std                        NaN               NaN  ...   \n",
      "min                  14.846701         -1.275226  ...   \n",
      "25%                  14.846701         -1.275226  ...   \n",
      "50%                  14.846701         -1.275226  ...   \n",
      "75%                  14.846701         -1.275226  ...   \n",
      "max                  14.846701         -1.275226  ...   \n",
      "\n",
      "       activity_type_externalquiz  activity_type_folder  \\\n",
      "count                         1.0                   1.0   \n",
      "mean                          0.0                   0.0   \n",
      "std                           NaN                   NaN   \n",
      "min                           0.0                   0.0   \n",
      "25%                           0.0                   0.0   \n",
      "50%                           0.0                   0.0   \n",
      "75%                           0.0                   0.0   \n",
      "max                           0.0                   0.0   \n",
      "\n",
      "       activity_type_forumng  activity_type_glossary  activity_type_homepage  \\\n",
      "count                    1.0                     1.0                     1.0   \n",
      "mean                     0.0                     0.0                     0.0   \n",
      "std                      NaN                     NaN                     NaN   \n",
      "min                      0.0                     0.0                     0.0   \n",
      "25%                      0.0                     0.0                     0.0   \n",
      "50%                      0.0                     0.0                     0.0   \n",
      "75%                      0.0                     0.0                     0.0   \n",
      "max                      0.0                     0.0                     0.0   \n",
      "\n",
      "       activity_type_quiz  activity_type_resource  assessment_type_CMA  \\\n",
      "count                 1.0                     1.0                  1.0   \n",
      "mean                  0.0                     0.0                  1.0   \n",
      "std                   NaN                     NaN                  NaN   \n",
      "min                   0.0                     0.0                  1.0   \n",
      "25%                   0.0                     0.0                  1.0   \n",
      "50%                   0.0                     0.0                  1.0   \n",
      "75%                   0.0                     0.0                  1.0   \n",
      "max                   0.0                     0.0                  1.0   \n",
      "\n",
      "       assessment_type_Exam  assessment_type_TMA  \n",
      "count                   1.0                  1.0  \n",
      "mean                    0.0                  0.0  \n",
      "std                     NaN                  NaN  \n",
      "min                     0.0                  0.0  \n",
      "25%                     0.0                  0.0  \n",
      "50%                     0.0                  0.0  \n",
      "75%                     0.0                  0.0  \n",
      "max                     0.0                  0.0  \n",
      "\n",
      "[8 rows x 75 columns]\n"
     ]
    }
   ],
   "source": [
    "# print(\"Statistiques des nouvelles données :\\n\", new_student_scaled.describe())\n"
   ]
  },
  {
   "cell_type": "code",
   "execution_count": 247,
   "metadata": {},
   "outputs": [],
   "source": [
    "new_student_scaled.drop(columns='id_student',inplace=True)"
   ]
  },
  {
   "cell_type": "code",
   "execution_count": 248,
   "metadata": {},
   "outputs": [
    {
     "name": "stdout",
     "output_type": "stream",
     "text": [
      "sum                       0\n",
      "count                     0\n",
      "score                     0\n",
      "weighted_score            0\n",
      "module_engagement_rate    0\n",
      "                         ..\n",
      "activity_type_quiz        0\n",
      "activity_type_resource    0\n",
      "assessment_type_CMA       0\n",
      "assessment_type_Exam      0\n",
      "assessment_type_TMA       0\n",
      "Length: 75, dtype: int64\n"
     ]
    }
   ],
   "source": [
    "print(new_student_scaled.isnull().sum())\n"
   ]
  },
  {
   "cell_type": "code",
   "execution_count": 249,
   "metadata": {},
   "outputs": [
    {
     "name": "stdout",
     "output_type": "stream",
     "text": [
      "Prediction: Student At Risk of abandonning the course\n",
      "Dropout Probability: 0.51\n"
     ]
    }
   ],
   "source": [
    "prediction = model.predict(new_student_scaled)\n",
    "probability = model.predict_proba(new_student_scaled)[:, 1] \n",
    "\n",
    "\n",
    "print(f\"Prediction: {'Student At Risk of abandonning the course' if prediction[0] == 1 else 'Not At Risk'}\")\n",
    "print(f\"Dropout Probability: {probability[0]:.2f}\")\n"
   ]
  },
  {
   "cell_type": "code",
   "execution_count": 250,
   "metadata": {},
   "outputs": [
    {
     "data": {
      "text/plain": [
       "0    15\n",
       "Name: cumulative_score, dtype: int64"
      ]
     },
     "execution_count": 250,
     "metadata": {},
     "output_type": "execute_result"
    }
   ],
   "source": [
    "new_student_df['cumulative_score']"
   ]
  },
  {
   "cell_type": "code",
   "execution_count": 251,
   "metadata": {},
   "outputs": [
    {
     "name": "stdout",
     "output_type": "stream",
     "text": [
      "Prediction: Student At Risk of Abandoning the Course\n",
      "Dropout Probability: 0.51\n",
      "Student ID: 987654321\n",
      "Segment: Low Performance\n",
      "Final Recommendation: Your recent performance indicates that you may benefit from focused support. We recommend reviewing foundational concepts through remedial classes. Additionally: Focus on targeted remedial topics and request tutoring support.\n"
     ]
    }
   ],
   "source": [
    "prediction = model.predict(new_student_scaled)\n",
    "probability = model.predict_proba(new_student_scaled)[:, 1]\n",
    "\n",
    "print(f\"Prediction: {'Student At Risk of Abandoning the Course' if prediction[0] == 1 else 'This student is not at risk of abandoning the course.'}\")\n",
    "print(f\"Dropout Probability: {probability[0]:.2f}\")\n",
    "\n",
    "if prediction[0] == 1:\n",
    "    def categorize(row):\n",
    "        if row['module_engagement_rate'] < 0.5:\n",
    "            row['engagement_issues'] = True\n",
    "        else:\n",
    "            row['engagement_issues'] = False\n",
    "\n",
    "        if row['cumulative_score'] < 50:\n",
    "            row['performance_issues'] = True\n",
    "        else:\n",
    "            row['performance_issues'] = False\n",
    "\n",
    "        if row['num_of_prev_attempts'] > 1:\n",
    "            row['difficulty_issues'] = True\n",
    "        else:\n",
    "            row['difficulty_issues'] = False\n",
    "\n",
    "        if row['engagement_issues']:\n",
    "            return 'Low Engagement'\n",
    "        elif row['performance_issues']:\n",
    "            return 'Low Performance'\n",
    "        elif row['difficulty_issues']:\n",
    "            return 'High Difficulty'\n",
    "        return 'General'\n",
    "\n",
    "    def recommend(segment):\n",
    "        if segment == 'Low Engagement':\n",
    "            return (\n",
    "                \"Your current engagement level suggests that active participation could significantly improve your learning experience. \"\n",
    "                \"Join study groups and engage in online forums.\"\n",
    "            )\n",
    "        elif segment == 'Low Performance':\n",
    "            return (\n",
    "                \"Your recent performance indicates that you may benefit from focused support. \"\n",
    "                \"We recommend reviewing foundational concepts through remedial classes.\"\n",
    "            )\n",
    "        elif segment == 'High Difficulty':\n",
    "            return (\n",
    "                \"The challenges you're facing suggest that a tailored approach might be beneficial. \"\n",
    "                \"Consider scheduling personalized tutoring sessions.\"\n",
    "            )\n",
    "        return (\n",
    "            \"Great job maintaining steady progress! Keep utilizing available resources like discussion forums, peer collaboration, \"\n",
    "            \"and instructor feedback to sustain your momentum.\"\n",
    "        )\n",
    "\n",
    "    def personalized_recommendation(row):\n",
    "        if row['module_engagement_rate'] < 0.5 and row['engagement_consistency'] < 0.5:\n",
    "            return \"Increase engagement with interactive content and schedule reminders to study.\"\n",
    "        elif row['cumulative_score'] < 50 and row['num_of_prev_attempts'] > 1:\n",
    "            return \"Focus on targeted remedial topics and request tutoring support.\"\n",
    "        elif row['difficulty_score'] > 0.8 and row['learning_pace'] < 0.4:\n",
    "            return \"Reduce workload and attend time management workshops.\"\n",
    "        elif row['disability'] == 'Y':\n",
    "            return \"Utilize accessibility tools and request extended deadlines if needed.\"\n",
    "        return \"Maintain steady progress and seek mentorship for continued success.\"\n",
    "\n",
    "    new_student_df['segment'] = new_student_df.apply(categorize, axis=1)\n",
    "    new_student_df['recommendations'] = new_student_df['segment'].apply(recommend)\n",
    "    new_student_df['personalized_recommendation'] = new_student_df.apply(personalized_recommendation, axis=1)\n",
    "    new_student_df['final_recommendation'] = (\n",
    "        new_student_df['recommendations'] + \" Additionally: \" + new_student_df['personalized_recommendation']\n",
    "    )\n",
    "\n",
    "    print(f\"Student ID: {new_student_df['id_student'].iloc[0]}\")\n",
    "    print(f\"Segment: {new_student_df['segment'].iloc[0]}\")\n",
    "    print(f\"Final Recommendation: {new_student_df['final_recommendation'].iloc[0]}\")\n",
    "\n",
    "else:\n",
    "    print(\" \")\n"
   ]
  },
  {
   "cell_type": "code",
   "execution_count": 252,
   "metadata": {},
   "outputs": [],
   "source": [
    "# import shap\n",
    "# explainer = shap.Explainer(model)\n",
    "# shap_values = explainer(new_student_scaled)\n",
    "# shap.summary_plot(shap_values, new_student_scaled)\n"
   ]
  }
 ],
 "metadata": {
  "kernelspec": {
   "display_name": "Python (myenv)",
   "language": "python",
   "name": "myenv"
  },
  "language_info": {
   "codemirror_mode": {
    "name": "ipython",
    "version": 3
   },
   "file_extension": ".py",
   "mimetype": "text/x-python",
   "name": "python",
   "nbconvert_exporter": "python",
   "pygments_lexer": "ipython3",
   "version": "3.12.3"
  }
 },
 "nbformat": 4,
 "nbformat_minor": 2
}
